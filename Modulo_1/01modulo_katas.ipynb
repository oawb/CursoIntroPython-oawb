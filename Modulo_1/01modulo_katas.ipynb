{
 "cells": [
  {
   "cell_type": "markdown",
   "metadata": {},
   "source": [
    "## ¡Primer programa!\n",
    "\n",
    "Paso a pasito mi capitán. "
   ]
  },
  {
   "cell_type": "markdown",
   "metadata": {},
   "source": [
    "1ero: ¡Desplegando la fecha al día de hoy!"
   ]
  },
  {
   "cell_type": "code",
   "execution_count": 28,
   "metadata": {},
   "outputs": [
    {
     "name": "stdout",
     "output_type": "stream",
     "text": [
      "Today's date is:2022-02-06\n"
     ]
    }
   ],
   "source": [
    "from datetime import date\n",
    "\n",
    "local_dt = date.today()\n",
    "\n",
    "print(\"Today's date is:\" + str(local_dt))\n"
   ]
  },
  {
   "cell_type": "markdown",
   "metadata": {},
   "source": [
    "2do: ¡Agregando el convertidor de unidades, parsec a lighyears!"
   ]
  },
  {
   "cell_type": "code",
   "execution_count": 25,
   "metadata": {},
   "outputs": [
    {
     "name": "stdout",
     "output_type": "stream",
     "text": [
      "Equivalencia: 1 parsec, is 3.26156 lightyears\n",
      "Convirtiendo: 11 parsec, is 35.877159999999996 lightyears\n"
     ]
    }
   ],
   "source": [
    "#Convertidor de parsecs\n",
    "#  1 parsec = 3.26156 lightyears gracias al tip del comandante\n",
    "\n",
    "parsec = 1\n",
    "\n",
    "lightyears = 3.26156\n",
    "\n",
    "parsec_toconvert = 11\n",
    "\n",
    "\n",
    "print(\"Equivalencia: \" + str(parsec) + \" parsec, is \" + str(lightyears) + \" lightyears\")\n",
    "\n",
    "#Convertidor de parsecs\n",
    "\n",
    "print ((\"Convirtiendo: \") + str(parsec_toconvert) + \" parsec, is \" + str(lightyears * parsec_toconvert) + \" lightyears\")\n",
    "\n",
    "\n",
    "\n",
    "\n"
   ]
  }
 ],
 "metadata": {
  "interpreter": {
   "hash": "cc3f90f30f94e47c688dd31d0ab10aca3670f0d9e443d79b562fb3d732b8b160"
  },
  "kernelspec": {
   "display_name": "Python 3.9.6 64-bit",
   "language": "python",
   "name": "python3"
  },
  "language_info": {
   "codemirror_mode": {
    "name": "ipython",
    "version": 3
   },
   "file_extension": ".py",
   "mimetype": "text/x-python",
   "name": "python",
   "nbconvert_exporter": "python",
   "pygments_lexer": "ipython3",
   "version": "3.9.6"
  },
  "orig_nbformat": 4
 },
 "nbformat": 4,
 "nbformat_minor": 2
}
