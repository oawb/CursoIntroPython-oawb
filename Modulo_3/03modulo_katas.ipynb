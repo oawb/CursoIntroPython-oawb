{
 "cells": [
  {
   "cell_type": "markdown",
   "metadata": {},
   "source": [
    "# Kata 03\n",
    "## Ejercicio 1\n",
    "Para este ejercicio, escribirás una lógica condicional que imprima una advertencia si un asteroide \n",
    "se acerca a la Tierra demasiado rápido. La velocidad del asteroide varía dependiendo de lo cerca que esté del sol,\n",
    "y cualquier velocidad superior a 25 kilómetros por segundo (km/s) merece una advertencia.\n",
    "\n",
    "Un asteroide se acerca, y viaja a una velocidad de 49 km/s.\n",
    "\n",
    "- Añadir el código necesario para crear una variable que guarde la velocidad del asteroide.\n",
    "- Escribe una expresión de prueba para calcular si necesita una advertencia.\n",
    "- Agregue las instrucciones que se ejecutarán si la expresión de prueba es true o false."
   ]
  },
  {
   "cell_type": "code",
   "execution_count": 2,
   "metadata": {},
   "outputs": [
    {
     "name": "stdout",
     "output_type": "stream",
     "text": [
      "Detectando Asteroides... \n",
      "Asteroide detectado con una velocidad de: 49km¡¡Vamos a morir!!\n"
     ]
    }
   ],
   "source": [
    "speed_asteroid = 49\n",
    "speed_warninglimit25 = 25\n",
    "progress_calc = str(\"Detectando Asteroides... \")\n",
    "speed_alert1 = str(str(\"Asteroide detectado con una velocidad de: \") + str(speed_asteroid) + str(\"km\") + str(\"¡¡Vamos a morir!!\"))\n",
    "speed_alert2 = str(\" ...Todo bien por el momento \")\n",
    "\n",
    "print(progress_calc)\n",
    "\n",
    "if speed_asteroid >= speed_warninglimit25:\n",
    "    print(speed_alert1)\n",
    "else:\n",
    "    print(speed_alert2)\n",
    "\n"
   ]
  },
  {
   "cell_type": "markdown",
   "metadata": {},
   "source": [
    "# Kata 03\n",
    "## Ejercicio 2\n",
    "Si un asteroide entra en la atmósfera de la Tierra a una velocidad mayor o igual a 20 km/s, a veces produce un rayo de luz que se puede ver desde la Tierra. Escribe la lógica condicional que usa declaraciones if, else, y elif para alertar a las personas de todo el mundo que deben buscar un asteroide en el cielo. ¡Hay uno que se dirige a la tierra ahora a una velocidad de 19 km/s!\n",
    "\n",
    "- Agrega el código para crear una variable para un asteroide que viaja a 19 km/s\n",
    "- Escribe varias expresiones de prueba para determinar si puedes ver el rayo de luz desde la tierra\n",
    "- Agrega las instrucciones que se ejecutarán si las expresiones de prueba son True o False"
   ]
  },
  {
   "cell_type": "code",
   "execution_count": 12,
   "metadata": {},
   "outputs": [
    {
     "name": "stdout",
     "output_type": "stream",
     "text": [
      "Detectando Asteroides en la atmosfera terrestre... \n",
      "Asteroide detectado en la atmosfera con una velocidad de: 19km  Voltea hacia arriba!!  esta a punto de brillar!! \n"
     ]
    }
   ],
   "source": [
    "speed_asteroid = 19\n",
    "speed_warninglimit20 = 20\n",
    "progress_calc = str(\"Detectando Asteroides en la atmosfera terrestre... \")\n",
    "speed_alert1 = str(str(\"Asteroide detectado en la orbita terrestre con una velocidad de: \") + str(speed_asteroid) + str(\"km  \") + str(\"¡¡vamos a morir!!\"))\n",
    "speed_alert2 = str(str(\"Asteroide detectado en la atmosfera con una velocidad de: \") + str(speed_asteroid) + str(\"km  \") + str(\"Voltea hacia arriba!!  esta a punto de brillar!! \"))\n",
    "speed_alert3 = str(str(\"Asteroide detectado en la atmosfera con una velocidad de: \") + str(speed_asteroid) + str(\"km  \") + str(\"No se podrá observar nada :( ! \"))\n",
    "\n",
    "print(progress_calc)\n",
    "\n",
    "if speed_asteroid >= speed_warninglimit20:\n",
    "    print(speed_alert1)\n",
    "elif speed_asteroid == 19:\n",
    "    print(speed_alert2)\n",
    "else:\n",
    "    print(speed_alert3)\n",
    "    "
   ]
  },
  {
   "cell_type": "markdown",
   "metadata": {},
   "source": [
    "# Kata 03\n",
    "## Ejercicio 3\n",
    "- Agrega el código para crear nuevas variables para la velocidad y el tamaño del asteroide\n",
    "- Para probar el código, prueba con varias velocidades y tamaños\n",
    "- Escribe varias expresiones de prueba o combinaciones de expresiones de prueba para determinar qué mensaje se debe enviar a Tierra."
   ]
  },
  {
   "cell_type": "code",
   "execution_count": 15,
   "metadata": {},
   "outputs": [
    {
     "name": "stdout",
     "output_type": "stream",
     "text": [
      "Detectando Asteroides en la atmosfera terrestre... \n",
      "Asteroide detectado en la orbita terrestre con una velocidad de: 45km  ¡¡vamos a morir!!\n",
      "Con tamaño apocatliptico de: 40 km \n"
     ]
    }
   ],
   "source": [
    "speed_asteroid = 45\n",
    "speed_warninglimit20 = 20\n",
    "size_asteroid = 40\n",
    "progress_calc = str(\"Detectando Asteroides en la atmosfera terrestre... \")\n",
    "speed_alert1 = str(str(\"Asteroide detectado en la orbita terrestre con una velocidad de: \") + str(speed_asteroid) + str(\"km  \") + str(\"¡¡vamos a morir!!\"))\n",
    "speed_alert2 = str(str(\"Asteroide detectado en la atmosfera con una velocidad de: \") + str(speed_asteroid) + str(\"km  \") + str(\"Voltea hacia arriba!!  esta a punto de brillar!! \"))\n",
    "speed_alert3 = str(str(\"Asteroide detectado en la atmosfera con una velocidad de: \") + str(speed_asteroid) + str(\"km  \") + str(\"No se podrá observar nada :( ! \"))\n",
    "speed_alertsize = str(str(\"Asteroide detectado en la orbita terrestre con una velocidad de: \") + str(speed_asteroid) + str(\"km  \") + str(\"¡¡vamos a morir!!\"))\n",
    "\n",
    "\n",
    "print(progress_calc)\n",
    "\n",
    "if speed_asteroid >= speed_warninglimit20:\n",
    "    print(speed_alert1)\n",
    "    print(str(\"Con tamaño apocatliptico de: \") + str(size_asteroid) + str(\" km \") ) \n",
    "\n",
    "elif speed_asteroid == 19 and size_asteroid >= 30:\n",
    "    print(speed_alert2)\n",
    "    \n",
    "else:\n",
    "    print(speed_alert3)\n",
    "    "
   ]
  }
 ],
 "metadata": {
  "interpreter": {
   "hash": "cc3f90f30f94e47c688dd31d0ab10aca3670f0d9e443d79b562fb3d732b8b160"
  },
  "kernelspec": {
   "display_name": "Python 3.9.6 64-bit",
   "language": "python",
   "name": "python3"
  },
  "language_info": {
   "codemirror_mode": {
    "name": "ipython",
    "version": 3
   },
   "file_extension": ".py",
   "mimetype": "text/x-python",
   "name": "python",
   "nbconvert_exporter": "python",
   "pygments_lexer": "ipython3",
   "version": "3.9.6"
  },
  "orig_nbformat": 4
 },
 "nbformat": 4,
 "nbformat_minor": 2
}
